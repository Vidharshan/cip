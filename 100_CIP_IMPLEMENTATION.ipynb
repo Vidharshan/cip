{
  "cells": [
    {
      "cell_type": "markdown",
      "metadata": {
        "id": "view-in-github",
        "colab_type": "text"
      },
      "source": [
        "<a href=\"https://colab.research.google.com/github/Vidharshan/cip/blob/main/100_CIP_IMPLEMENTATION.ipynb\" target=\"_parent\"><img src=\"https://colab.research.google.com/assets/colab-badge.svg\" alt=\"Open In Colab\"/></a>"
      ]
    },
    {
      "cell_type": "code",
      "source": [
        "!git clone https://github.com/deepmind/ithaca"
      ],
      "metadata": {
        "colab": {
          "base_uri": "https://localhost:8080/"
        },
        "id": "afw2ik1GP3H-",
        "outputId": "9a3006d4-bb97-4b56-9a7d-a1ced167efaf"
      },
      "execution_count": 25,
      "outputs": [
        {
          "output_type": "stream",
          "name": "stdout",
          "text": [
            "Cloning into 'ithaca'...\n",
            "remote: Enumerating objects: 73, done.\u001b[K\n",
            "remote: Counting objects: 100% (73/73), done.\u001b[K\n",
            "remote: Compressing objects: 100% (59/59), done.\u001b[K\n",
            "remote: Total 73 (delta 19), reused 68 (delta 14), pack-reused 0\u001b[K\n",
            "Unpacking objects: 100% (73/73), 2.44 MiB | 6.22 MiB/s, done.\n"
          ]
        }
      ]
    },
    {
      "cell_type": "code",
      "execution_count": 26,
      "metadata": {
        "colab": {
          "base_uri": "https://localhost:8080/"
        },
        "id": "kUMb6FGzlnSZ",
        "outputId": "9f6aa869-c523-4452-ed7d-7e4916735c25"
      },
      "outputs": [
        {
          "output_type": "stream",
          "name": "stdout",
          "text": [
            "Looking in indexes: https://pypi.org/simple, https://us-python.pkg.dev/colab-wheels/public/simple/\n",
            "Obtaining file:///content/ithaca/train/ithaca\n",
            "  Preparing metadata (setup.py) ... \u001b[?25l\u001b[?25hdone\n",
            "Requirement already satisfied: absl-py>=0.13.0 in /usr/local/lib/python3.10/dist-packages (from ithaca==0.1.0) (1.4.0)\n",
            "Requirement already satisfied: chex>=0.0.8 in /usr/local/lib/python3.10/dist-packages (from ithaca==0.1.0) (0.1.7)\n",
            "Requirement already satisfied: flax>=0.4.0 in /usr/local/lib/python3.10/dist-packages (from ithaca==0.1.0) (0.6.9)\n",
            "Requirement already satisfied: dm-haiku>=0.0.5 in /usr/local/lib/python3.10/dist-packages (from ithaca==0.1.0) (0.0.9)\n",
            "Requirement already satisfied: jax>=0.4.2 in /usr/local/lib/python3.10/dist-packages (from ithaca==0.1.0) (0.4.8)\n",
            "Requirement already satisfied: jaxlib>=0.4.2 in /usr/local/lib/python3.10/dist-packages (from ithaca==0.1.0) (0.4.7+cuda11.cudnn86)\n",
            "Requirement already satisfied: ml-collections>=0.1.1 in /usr/local/lib/python3.10/dist-packages (from ithaca==0.1.0) (0.1.1)\n",
            "Requirement already satisfied: numpy>=1.18.0 in /usr/local/lib/python3.10/dist-packages (from ithaca==0.1.0) (1.22.4)\n",
            "Requirement already satisfied: tqdm>=4.62.2 in /usr/local/lib/python3.10/dist-packages (from ithaca==0.1.0) (4.65.0)\n",
            "Requirement already satisfied: optax in /usr/local/lib/python3.10/dist-packages (from ithaca==0.1.0) (0.1.5)\n",
            "Requirement already satisfied: jaxline==0.0.5 in /usr/local/lib/python3.10/dist-packages (from ithaca==0.1.0) (0.0.5)\n",
            "Requirement already satisfied: tensorflow-datasets in /usr/local/lib/python3.10/dist-packages (from ithaca==0.1.0) (4.9.2)\n",
            "Requirement already satisfied: wrapt>=1.11.2 in /usr/local/lib/python3.10/dist-packages (from jaxline==0.0.5->ithaca==0.1.0) (1.14.1)\n",
            "Requirement already satisfied: typing-extensions>=3.7 in /usr/local/lib/python3.10/dist-packages (from jaxline==0.0.5->ithaca==0.1.0) (4.5.0)\n",
            "Requirement already satisfied: dm-tree>=0.1.5 in /usr/local/lib/python3.10/dist-packages (from chex>=0.0.8->ithaca==0.1.0) (0.1.8)\n",
            "Requirement already satisfied: toolz>=0.9.0 in /usr/local/lib/python3.10/dist-packages (from chex>=0.0.8->ithaca==0.1.0) (0.12.0)\n",
            "Requirement already satisfied: jmp>=0.0.2 in /usr/local/lib/python3.10/dist-packages (from dm-haiku>=0.0.5->ithaca==0.1.0) (0.0.4)\n",
            "Requirement already satisfied: tabulate>=0.8.9 in /usr/local/lib/python3.10/dist-packages (from dm-haiku>=0.0.5->ithaca==0.1.0) (0.8.10)\n",
            "Requirement already satisfied: msgpack in /usr/local/lib/python3.10/dist-packages (from flax>=0.4.0->ithaca==0.1.0) (1.0.5)\n",
            "Requirement already satisfied: orbax-checkpoint in /usr/local/lib/python3.10/dist-packages (from flax>=0.4.0->ithaca==0.1.0) (0.2.1)\n",
            "Requirement already satisfied: tensorstore in /usr/local/lib/python3.10/dist-packages (from flax>=0.4.0->ithaca==0.1.0) (0.1.36)\n",
            "Requirement already satisfied: rich>=11.1 in /usr/local/lib/python3.10/dist-packages (from flax>=0.4.0->ithaca==0.1.0) (13.3.4)\n",
            "Requirement already satisfied: PyYAML>=5.4.1 in /usr/local/lib/python3.10/dist-packages (from flax>=0.4.0->ithaca==0.1.0) (6.0)\n",
            "Requirement already satisfied: ml-dtypes>=0.0.3 in /usr/local/lib/python3.10/dist-packages (from jax>=0.4.2->ithaca==0.1.0) (0.1.0)\n",
            "Requirement already satisfied: opt-einsum in /usr/local/lib/python3.10/dist-packages (from jax>=0.4.2->ithaca==0.1.0) (3.3.0)\n",
            "Requirement already satisfied: scipy>=1.7 in /usr/local/lib/python3.10/dist-packages (from jax>=0.4.2->ithaca==0.1.0) (1.10.1)\n",
            "Requirement already satisfied: six in /usr/local/lib/python3.10/dist-packages (from ml-collections>=0.1.1->ithaca==0.1.0) (1.16.0)\n",
            "Requirement already satisfied: contextlib2 in /usr/local/lib/python3.10/dist-packages (from ml-collections>=0.1.1->ithaca==0.1.0) (0.6.0.post1)\n",
            "Requirement already satisfied: array-record in /usr/local/lib/python3.10/dist-packages (from tensorflow-datasets->ithaca==0.1.0) (0.2.0)\n",
            "Requirement already satisfied: click in /usr/local/lib/python3.10/dist-packages (from tensorflow-datasets->ithaca==0.1.0) (8.1.3)\n",
            "Requirement already satisfied: etils[enp,epath]>=0.9.0 in /usr/local/lib/python3.10/dist-packages (from tensorflow-datasets->ithaca==0.1.0) (1.2.0)\n",
            "Requirement already satisfied: promise in /usr/local/lib/python3.10/dist-packages (from tensorflow-datasets->ithaca==0.1.0) (2.3)\n",
            "Requirement already satisfied: protobuf>=3.20 in /usr/local/lib/python3.10/dist-packages (from tensorflow-datasets->ithaca==0.1.0) (3.20.3)\n",
            "Requirement already satisfied: psutil in /usr/local/lib/python3.10/dist-packages (from tensorflow-datasets->ithaca==0.1.0) (5.9.5)\n",
            "Requirement already satisfied: requests>=2.19.0 in /usr/local/lib/python3.10/dist-packages (from tensorflow-datasets->ithaca==0.1.0) (2.27.1)\n",
            "Requirement already satisfied: tensorflow-metadata in /usr/local/lib/python3.10/dist-packages (from tensorflow-datasets->ithaca==0.1.0) (1.13.1)\n",
            "Requirement already satisfied: termcolor in /usr/local/lib/python3.10/dist-packages (from tensorflow-datasets->ithaca==0.1.0) (2.3.0)\n",
            "Requirement already satisfied: toml in /usr/local/lib/python3.10/dist-packages (from tensorflow-datasets->ithaca==0.1.0) (0.10.2)\n",
            "Requirement already satisfied: importlib_resources in /usr/local/lib/python3.10/dist-packages (from etils[enp,epath]>=0.9.0->tensorflow-datasets->ithaca==0.1.0) (5.12.0)\n",
            "Requirement already satisfied: zipp in /usr/local/lib/python3.10/dist-packages (from etils[enp,epath]>=0.9.0->tensorflow-datasets->ithaca==0.1.0) (3.15.0)\n",
            "Requirement already satisfied: urllib3<1.27,>=1.21.1 in /usr/local/lib/python3.10/dist-packages (from requests>=2.19.0->tensorflow-datasets->ithaca==0.1.0) (1.26.15)\n",
            "Requirement already satisfied: certifi>=2017.4.17 in /usr/local/lib/python3.10/dist-packages (from requests>=2.19.0->tensorflow-datasets->ithaca==0.1.0) (2022.12.7)\n",
            "Requirement already satisfied: charset-normalizer~=2.0.0 in /usr/local/lib/python3.10/dist-packages (from requests>=2.19.0->tensorflow-datasets->ithaca==0.1.0) (2.0.12)\n",
            "Requirement already satisfied: idna<4,>=2.5 in /usr/local/lib/python3.10/dist-packages (from requests>=2.19.0->tensorflow-datasets->ithaca==0.1.0) (3.4)\n",
            "Requirement already satisfied: markdown-it-py<3.0.0,>=2.2.0 in /usr/local/lib/python3.10/dist-packages (from rich>=11.1->flax>=0.4.0->ithaca==0.1.0) (2.2.0)\n",
            "Requirement already satisfied: pygments<3.0.0,>=2.13.0 in /usr/local/lib/python3.10/dist-packages (from rich>=11.1->flax>=0.4.0->ithaca==0.1.0) (2.14.0)\n",
            "Requirement already satisfied: cached_property in /usr/local/lib/python3.10/dist-packages (from orbax-checkpoint->flax>=0.4.0->ithaca==0.1.0) (1.5.2)\n",
            "Requirement already satisfied: nest_asyncio in /usr/local/lib/python3.10/dist-packages (from orbax-checkpoint->flax>=0.4.0->ithaca==0.1.0) (1.5.6)\n",
            "Requirement already satisfied: googleapis-common-protos<2,>=1.52.0 in /usr/local/lib/python3.10/dist-packages (from tensorflow-metadata->tensorflow-datasets->ithaca==0.1.0) (1.59.0)\n",
            "Requirement already satisfied: mdurl~=0.1 in /usr/local/lib/python3.10/dist-packages (from markdown-it-py<3.0.0,>=2.2.0->rich>=11.1->flax>=0.4.0->ithaca==0.1.0) (0.1.2)\n",
            "Installing collected packages: ithaca\n",
            "  Attempting uninstall: ithaca\n",
            "    Found existing installation: ithaca 0.1.0\n",
            "    Uninstalling ithaca-0.1.0:\n",
            "      Successfully uninstalled ithaca-0.1.0\n",
            "  Running setup.py develop for ithaca\n",
            "Successfully installed ithaca-0.1.0\n"
          ]
        }
      ],
      "source": [
        "import os\n",
        "os.chdir('ithaca')\n",
        "!pip install --editable .[train]"
      ]
    },
    {
      "cell_type": "code",
      "execution_count": 27,
      "metadata": {
        "id": "DdqvLhgWl_M6"
      },
      "outputs": [],
      "source": [
        "os.chdir('train')"
      ]
    },
    {
      "cell_type": "code",
      "execution_count": 28,
      "metadata": {
        "colab": {
          "base_uri": "https://localhost:8080/"
        },
        "id": "JsCo_iQrnloF",
        "outputId": "b3dc9ffa-b724-4ec9-c7ce-c0638a2010ee"
      },
      "outputs": [
        {
          "output_type": "stream",
          "name": "stdout",
          "text": [
            "2023-05-18 06:11:26.899947: I tensorflow/core/platform/cpu_feature_guard.cc:182] This TensorFlow binary is optimized to use available CPU instructions in performance-critical operations.\n",
            "To enable the following instructions: AVX2 FMA, in other operations, rebuild TensorFlow with the appropriate compiler flags.\n",
            "2023-05-18 06:11:28.621849: W tensorflow/compiler/tf2tensorrt/utils/py_utils.cc:38] TF-TRT Warning: Could not find TensorRT\n",
            "Traceback (most recent call last):\n",
            "  File \"/content/ithaca/train/ithaca/train/experiment.py\", line 29, in <module>\n",
            "    from ithaca.util.loss import categorical_kl_divergence\n",
            "  File \"/content/ithaca/train/ithaca/ithaca/util/loss.py\", line 16, in <module>\n",
            "    from flax.deprecated import nn\n",
            "ModuleNotFoundError: No module named 'flax.deprecated'\n"
          ]
        }
      ],
      "source": [
        "!./launch_local.sh"
      ]
    },
    {
      "cell_type": "code",
      "source": [
        "!curl --output checkpoint.pkl https://storage.googleapis.com/ithaca-resources/models/checkpoint_v1.pkl"
      ],
      "metadata": {
        "colab": {
          "base_uri": "https://localhost:8080/"
        },
        "id": "vXXyMu1pk9If",
        "outputId": "8c101b0d-1a1f-49da-d5d3-2adc2abf00e4"
      },
      "execution_count": 29,
      "outputs": [
        {
          "output_type": "stream",
          "name": "stdout",
          "text": [
            "  % Total    % Received % Xferd  Average Speed   Time    Time     Time  Current\n",
            "                                 Dload  Upload   Total   Spent    Left  Speed\n",
            "100  192M  100  192M    0     0   133M      0  0:00:01  0:00:01 --:--:--  133M\n"
          ]
        }
      ]
    },
    {
      "cell_type": "code",
      "source": [
        "def unicode_to_greek(text):\n",
        "    \"\"\"\n",
        "    Convert Unicode characters to their corresponding Greek letters.\n",
        "    \"\"\"\n",
        "    greek_map = {\n",
        "        u'\\u03b1': u'α', u'\\u03b2': u'β', u'\\u03b3': u'γ', u'\\u03b4': u'δ',\n",
        "        u'\\u03b5': u'ε', u'\\u03b6': u'ζ', u'\\u03b7': u'η', u'\\u03b8': u'θ',\n",
        "        u'\\u03b9': u'ι', u'\\u03ba': u'κ', u'\\u03bb': u'λ', u'\\u03bc': u'μ',\n",
        "        u'\\u03bd': u'ν', u'\\u03be': u'ξ', u'\\u03bf': u'ο', u'\\u03c0': u'π',\n",
        "        u'\\u03c1': u'ρ', u'\\u03c2': u'ς', u'\\u03c3': u'σ', u'\\u03c4': u'τ',\n",
        "        u'\\u03c5': u'υ', u'\\u03c6': u'φ', u'\\u03c7': u'χ', u'\\u03c8': u'ψ',\n",
        "        u'\\u03c9': u'ω'\n",
        "    }\n",
        "    greek_text = ''\n",
        "    for c in text:\n",
        "        if c in greek_map:\n",
        "            greek_text += greek_map[c]\n",
        "        else:\n",
        "            greek_text += c\n",
        "    return greek_text"
      ],
      "metadata": {
        "id": "43w3Aq3LvYl2"
      },
      "execution_count": 30,
      "outputs": []
    },
    {
      "cell_type": "code",
      "source": [
        "%pwd"
      ],
      "metadata": {
        "colab": {
          "base_uri": "https://localhost:8080/",
          "height": 35
        },
        "id": "STpIr3Y83VNv",
        "outputId": "c5135154-6b46-4310-ad11-613465c0ae77"
      },
      "execution_count": 31,
      "outputs": [
        {
          "output_type": "execute_result",
          "data": {
            "text/plain": [
              "'/content/ithaca/train/ithaca/train'"
            ],
            "application/vnd.google.colaboratory.intrinsic+json": {
              "type": "string"
            }
          },
          "metadata": {},
          "execution_count": 31
        }
      ]
    },
    {
      "cell_type": "code",
      "source": [
        "!python inference_example.py \\\n",
        "  --input_file=example_input.txt \\\n",
        "  --attribute_json=attribute.json \\\n",
        "  --restore_json=restore.json"
      ],
      "metadata": {
        "colab": {
          "base_uri": "https://localhost:8080/"
        },
        "id": "oVWMaEE6nX8t",
        "outputId": "2c088655-38d8-4186-86b2-6dfbe8e7790f"
      },
      "execution_count": 32,
      "outputs": [
        {
          "output_type": "stream",
          "name": "stdout",
          "text": [
            "python3: can't open file '/content/ithaca/train/ithaca/train/inference_example.py': [Errno 2] No such file or directory\n"
          ]
        }
      ]
    },
    {
      "cell_type": "code",
      "source": [
        "class dataset_config:\n",
        "  date_interval = 10\n",
        "  date_max = 800\n",
        "  date_min = -800"
      ],
      "metadata": {
        "id": "b4W70NAJ_70Z"
      },
      "execution_count": 33,
      "outputs": []
    },
    {
      "cell_type": "code",
      "source": [
        "os.getcwd()"
      ],
      "metadata": {
        "colab": {
          "base_uri": "https://localhost:8080/",
          "height": 35
        },
        "id": "ap9TdFJ1fTuu",
        "outputId": "b0299b21-4573-4aa2-9d3f-adae69d3bd95"
      },
      "execution_count": 36,
      "outputs": [
        {
          "output_type": "execute_result",
          "data": {
            "text/plain": [
              "'/content/ithaca/train/ithaca/train'"
            ],
            "application/vnd.google.colaboratory.intrinsic+json": {
              "type": "string"
            }
          },
          "metadata": {},
          "execution_count": 36
        }
      ]
    },
    {
      "cell_type": "code",
      "source": [
        "import json\n",
        "import numpy as np\n",
        "\n",
        "def unicode_to_greek(text):\n",
        "    \"\"\"\n",
        "    Convert Unicode characters to their corresponding Greek letters.\n",
        "    \"\"\"\n",
        "    greek_map = {\n",
        "        u'\\u03b1': u'α', u'\\u03b2': u'β', u'\\u03b3': u'γ', u'\\u03b4': u'δ',\n",
        "        u'\\u03b5': u'ε', u'\\u03b6': u'ζ', u'\\u03b7': u'η', u'\\u03b8': u'θ',\n",
        "        u'\\u03b9': u'ι', u'\\u03ba': u'κ', u'\\u03bb': u'λ', u'\\u03bc': u'μ',\n",
        "        u'\\u03bd': u'ν', u'\\u03be': u'ξ', u'\\u03bf': u'ο', u'\\u03c0': u'π',\n",
        "        u'\\u03c1': u'ρ', u'\\u03c2': u'ς', u'\\u03c3': u'σ', u'\\u03c4': u'τ',\n",
        "        u'\\u03c5': u'υ', u'\\u03c6': u'φ', u'\\u03c7': u'χ', u'\\u03c8': u'ψ',\n",
        "        u'\\u03c9': u'ω'\n",
        "    }\n",
        "    greek_text = ''\n",
        "    for c in text:\n",
        "        if c in greek_map:\n",
        "            greek_text += greek_map[c]\n",
        "        else:\n",
        "            greek_text += c\n",
        "    return greek_text\n",
        "\n",
        "# Specify the path to your JSON file here\n",
        "json_path = 'restore.json'\n",
        "\n",
        "# Load the JSON file\n",
        "with open(json_path, 'r') as f:\n",
        "    data = json.load(f)\n",
        "\n",
        "# Extract the desired attribute from the JSON data\n",
        "attribute = data['top_prediction']\n",
        "\n",
        "# Convert the attribute to Greek letters\n",
        "greek_attribute = unicode_to_greek(attribute)\n",
        "\n",
        "with open('attribute.json', 'r') as f:\n",
        "  attr = json.load(f)\n",
        "\n",
        "data = attr[\"locations\"]\n",
        "max_location = max(data, key=lambda x: x[\"score\"])\n",
        "max_location_id = max_location[\"location_id\"]\n",
        "max_score = max_location[\"score\"]\n",
        "region_folder = '/content/ithaca/train/data/iphi-region-sub.txt'\n",
        "year = attr[\"year_scores\"]\n",
        "id = year.index(max(year))\n",
        "\n",
        "date_pred_y = np.array(attr[\"year_scores\"])\n",
        "date_pred_x = np.arange(\n",
        "  dataset_config.date_min + dataset_config.date_interval / 2,\n",
        "  dataset_config.date_max + dataset_config.date_interval / 2,\n",
        "  dataset_config.date_interval)\n",
        "date_pred_argmax = date_pred_y.argmax(\n",
        ") * dataset_config.date_interval + dataset_config.date_min + dataset_config.date_interval // 2\n",
        "date_pred_avg = np.dot(date_pred_y, date_pred_x)\n",
        "\n",
        "with open(region_folder, \"r\") as file:\n",
        "    for line in file:\n",
        "        if str(max_location_id) in line:\n",
        "            region_string = line.split('_')[0]\n",
        "            break\n",
        "\n",
        "# Print the result\n",
        "print(\"INPUT\")\n",
        "with open('example_input.txt', 'r') as file:\n",
        "    file_content = file.read()\n",
        "    print(file_content)\n",
        "print(\"RESULT : \")\n",
        "print(greek_attribute)\n",
        "print()\n",
        "print(\"PREDICTION ACCURACY\")\n",
        "print(max_score)\n",
        "print()\n",
        "print(\"PREDICTED LOCATION :\" )\n",
        "print(region_string)\n",
        "print()\n",
        "print(\"PREDICTED TIMELINE : \")\n",
        "if date_pred_avg < 0:\n",
        "  date_pred_avg = abs(date_pred_avg)\n",
        "  print(str(round(date_pred_avg)) + \" BC\")\n",
        "else:\n",
        "  print(str(date_pred_avg) + \" AD\")"
      ],
      "metadata": {
        "colab": {
          "base_uri": "https://localhost:8080/",
          "height": 235
        },
        "id": "K_Bi2b8GrY3T",
        "outputId": "425e2b42-59f6-4281-af63-91e8d986c04b"
      },
      "execution_count": 35,
      "outputs": [
        {
          "output_type": "error",
          "ename": "FileNotFoundError",
          "evalue": "ignored",
          "traceback": [
            "\u001b[0;31m---------------------------------------------------------------------------\u001b[0m",
            "\u001b[0;31mFileNotFoundError\u001b[0m                         Traceback (most recent call last)",
            "\u001b[0;32m<ipython-input-35-2b6f6a42cb00>\u001b[0m in \u001b[0;36m<cell line: 29>\u001b[0;34m()\u001b[0m\n\u001b[1;32m     27\u001b[0m \u001b[0;34m\u001b[0m\u001b[0m\n\u001b[1;32m     28\u001b[0m \u001b[0;31m# Load the JSON file\u001b[0m\u001b[0;34m\u001b[0m\u001b[0;34m\u001b[0m\u001b[0m\n\u001b[0;32m---> 29\u001b[0;31m \u001b[0;32mwith\u001b[0m \u001b[0mopen\u001b[0m\u001b[0;34m(\u001b[0m\u001b[0mjson_path\u001b[0m\u001b[0;34m,\u001b[0m \u001b[0;34m'r'\u001b[0m\u001b[0;34m)\u001b[0m \u001b[0;32mas\u001b[0m \u001b[0mf\u001b[0m\u001b[0;34m:\u001b[0m\u001b[0;34m\u001b[0m\u001b[0;34m\u001b[0m\u001b[0m\n\u001b[0m\u001b[1;32m     30\u001b[0m     \u001b[0mdata\u001b[0m \u001b[0;34m=\u001b[0m \u001b[0mjson\u001b[0m\u001b[0;34m.\u001b[0m\u001b[0mload\u001b[0m\u001b[0;34m(\u001b[0m\u001b[0mf\u001b[0m\u001b[0;34m)\u001b[0m\u001b[0;34m\u001b[0m\u001b[0;34m\u001b[0m\u001b[0m\n\u001b[1;32m     31\u001b[0m \u001b[0;34m\u001b[0m\u001b[0m\n",
            "\u001b[0;31mFileNotFoundError\u001b[0m: [Errno 2] No such file or directory: 'restore.json'"
          ]
        }
      ]
    },
    {
      "cell_type": "code",
      "source": [
        "greek_alphabet = {\n",
        "    'Α': 'α', 'Β': 'β', 'Γ': 'γ', 'Δ': 'δ', 'Ε': 'ε',\n",
        "    'Ζ': 'ζ', 'Η': 'η', 'Θ': 'θ', 'Ι': 'ι', 'Κ': 'κ',\n",
        "    'Λ': 'λ', 'Μ': 'μ', 'Ν': 'ν', 'Ξ': 'ξ', 'Ο': 'ο',\n",
        "    'Π': 'π', 'Ρ': 'ρ', 'Σ': 'σ', 'Τ': 'τ', 'Υ': 'υ',\n",
        "    'Φ': 'φ', 'Χ': 'χ', 'Ψ': 'ψ', 'Ω': 'ω', 'Ϙ': 'ϙ',\n",
        "    'Ϛ': 'ϛ'\n",
        "}\n",
        "\n",
        "def remove_erroneous_characters(string):\n",
        "    cleaned_string = ''.join([char for char in string if char.isalpha() or char.isspace()])\n",
        "    return cleaned_string\n",
        "\n",
        "string = 'Μουσάων θεράποντα καὶ Ἡρακλῆος ἑταῖρον'\n",
        "def convert_to_new_string(string):\n",
        "    new_string = ''\n",
        "    for char in string:\n",
        "        if char in greek_alphabet:\n",
        "            new_char = greek_alphabet[char]\n",
        "            new_string += new_char\n",
        "        else:\n",
        "            new_string += char\n",
        "    return new_string\n",
        "\n",
        "print(convert_to_new_string(string))"
      ],
      "metadata": {
        "id": "Z-_l_IZbDjp1"
      },
      "execution_count": null,
      "outputs": []
    },
    {
      "cell_type": "code",
      "source": [
        "def read_file(file_name):\n",
        "    lines = []\n",
        "    with open(file_name, 'r') as file:\n",
        "        for line in file:\n",
        "            cleaned_input_string = remove_erroneous_characters(line)\n",
        "            att = convert_to_new_string(cleaned_input_string)\n",
        "            lines.append(att.strip())\n",
        "    return lines\n",
        "\n",
        "# Example usage\n",
        "file_name = '/content/ithaca/greek text for testing.txt'  # Replace with your file name or path\n",
        "string_array = read_file(file_name)\n",
        "print(string_array)\n"
      ],
      "metadata": {
        "id": "cBu7tG_q0x3-"
      },
      "execution_count": null,
      "outputs": []
    },
    {
      "cell_type": "code",
      "source": [
        "import random\n",
        "\n",
        "def replace_with_question_marks(string_array):\n",
        "    updated_array = []\n",
        "    # i = 0\n",
        "    for sentence in string_array:\n",
        "        # if i > 2:\n",
        "        #   break\n",
        "        words = sentence.split()\n",
        "        if words:\n",
        "            random_word = random.choice(words)\n",
        "            if len(random_word) > 3:\n",
        "                replace_chars = min(3, len(random_word) - 1)\n",
        "                question_marks = '?' * replace_chars + random_word[replace_chars:]\n",
        "                updated_array.append([sentence.replace(random_word, question_marks), random_word[:3]])\n",
        "            else:\n",
        "                question_marks = '?' * len(random_word)\n",
        "                updated_array.append([sentence.replace(random_word, question_marks), random_word])\n",
        "        # i += 1\n",
        "    return updated_array\n",
        "\n",
        "updated_array = replace_with_question_marks(string_array)\n",
        "for row in updated_array:\n",
        "    print(row)\n",
        "\n"
      ],
      "metadata": {
        "id": "8NcKZv3G1BNP"
      },
      "execution_count": null,
      "outputs": []
    },
    {
      "cell_type": "code",
      "source": [
        "%cd ithaca"
      ],
      "metadata": {
        "id": "oBZ-u96zItRB"
      },
      "execution_count": null,
      "outputs": []
    },
    {
      "cell_type": "code",
      "source": [
        "list_of_accuracies = [0.6625]"
      ],
      "metadata": {
        "id": "Hyh4dAfCnvLm"
      },
      "execution_count": null,
      "outputs": []
    },
    {
      "cell_type": "code",
      "source": [
        "import json\n",
        "i = 0\n",
        "list_of_accuracies = []\n",
        "\n",
        "total = len(updated_array)\n",
        "for line in updated_array:\n",
        "  # print(\"PRINTING LINE NUMBER : \", i)\n",
        "  # if i > 1:\n",
        "  #   break\n",
        "  with open(\"ex.txt\", \"w\") as f:\n",
        "    f.write(line[0])\n",
        "  !python inference_example.py \\\n",
        "  --input_file=ex.txt \\\n",
        "  --attribute_json=attribute.json \\\n",
        "  --restore_json=restore.json\n",
        "  json_path = 'restore.json'\n",
        "  # Load the JSON file\n",
        "  with open(json_path, 'r') as f:\n",
        "      data = json.load(f)\n",
        "      attribute = data['top_prediction']\n",
        "  print()\n",
        "  print(\"ACTUAL STRING : \" +string_array[i])\n",
        "  print(\"INPUT STRING : \" + line[0])\n",
        "  print(\"PREDICTED STRING : \" + attribute)\n",
        "  # print()\n",
        "  count = 0\n",
        "  # print(len(attribute))\n",
        "  # print(len(string_array[i]))\n",
        "  # print(len(line[0]))\n",
        "  st = 0\n",
        "  for j in range(len(line[0])):\n",
        "    if line[0][j] == '?':\n",
        "      st = j\n",
        "      break\n",
        "  k = 0\n",
        "  for j in range(st, st + len(line[1])):\n",
        "    if attribute[j] == line[1][k]:\n",
        "      count += 1\n",
        "    k += 1\n",
        "  accuracy = count / len(line[1])\n",
        "  print(\"ACCURACY : \", accuracy)\n",
        "  print()\n",
        "  list_of_accuracies.append(accuracy)\n",
        "  i += 1\n",
        "\n",
        "print()\n",
        "print('MAX ACCURACY : ', max(list_of_accuracies))\n",
        "print('MIN ACCURACY : ', min(list_of_accuracies))"
      ],
      "metadata": {
        "id": "4t5s3Zr0uHGX"
      },
      "execution_count": null,
      "outputs": []
    },
    {
      "cell_type": "code",
      "source": [
        "# Calculation of Overall Accuracy\n",
        "sum=0\n",
        "for i in range(len(list_of_accuracies)):\n",
        "  sum+=list_of_accuracies[i]\n",
        "acc=(sum/len(list_of_accuracies))*100\n",
        "\n",
        "print(\"ACCURACY OF THE MODEL = \", round(acc,2))\n"
      ],
      "metadata": {
        "id": "73AeTu-Ddl-r"
      },
      "execution_count": null,
      "outputs": []
    }
  ],
  "metadata": {
    "accelerator": "GPU",
    "colab": {
      "provenance": [],
      "gpuType": "T4",
      "include_colab_link": true
    },
    "gpuClass": "standard",
    "kernelspec": {
      "display_name": "Python 3",
      "name": "python3"
    },
    "language_info": {
      "name": "python"
    }
  },
  "nbformat": 4,
  "nbformat_minor": 0
}